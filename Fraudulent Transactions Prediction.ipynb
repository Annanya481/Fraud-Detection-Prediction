{
 "cells": [
  {
   "cell_type": "markdown",
   "id": "d2492074",
   "metadata": {},
   "source": [
    "## Import required packages "
   ]
  },
  {
   "cell_type": "code",
   "execution_count": 15,
   "id": "4c8f7fda",
   "metadata": {},
   "outputs": [],
   "source": [
    "import pandas as pd\n",
    "import numpy as np\n",
    "import seaborn as sns\n",
    "import matplotlib.pyplot as plt"
   ]
  },
  {
   "cell_type": "markdown",
   "id": "8cf4b51b",
   "metadata": {},
   "source": [
    "## Import dataset "
   ]
  },
  {
   "cell_type": "code",
   "execution_count": 2,
   "id": "22f8f772",
   "metadata": {},
   "outputs": [],
   "source": [
    "df = pd.read_csv('./Fraud.csv')"
   ]
  },
  {
   "cell_type": "markdown",
   "id": "1009e212",
   "metadata": {},
   "source": [
    "## Exploratory Data Analysis"
   ]
  },
  {
   "cell_type": "code",
   "execution_count": 3,
   "id": "f187f0a4",
   "metadata": {},
   "outputs": [
    {
     "name": "stdout",
     "output_type": "stream",
     "text": [
      "<class 'pandas.core.frame.DataFrame'>\n",
      "RangeIndex: 6362620 entries, 0 to 6362619\n",
      "Data columns (total 11 columns):\n",
      " #   Column          Dtype  \n",
      "---  ------          -----  \n",
      " 0   step            int64  \n",
      " 1   type            object \n",
      " 2   amount          float64\n",
      " 3   nameOrig        object \n",
      " 4   oldbalanceOrg   float64\n",
      " 5   newbalanceOrig  float64\n",
      " 6   nameDest        object \n",
      " 7   oldbalanceDest  float64\n",
      " 8   newbalanceDest  float64\n",
      " 9   isFraud         int64  \n",
      " 10  isFlaggedFraud  int64  \n",
      "dtypes: float64(5), int64(3), object(3)\n",
      "memory usage: 534.0+ MB\n"
     ]
    }
   ],
   "source": [
    "df.info()"
   ]
  },
  {
   "cell_type": "code",
   "execution_count": 4,
   "id": "e27af693",
   "metadata": {},
   "outputs": [
    {
     "data": {
      "text/html": [
       "<div>\n",
       "<style scoped>\n",
       "    .dataframe tbody tr th:only-of-type {\n",
       "        vertical-align: middle;\n",
       "    }\n",
       "\n",
       "    .dataframe tbody tr th {\n",
       "        vertical-align: top;\n",
       "    }\n",
       "\n",
       "    .dataframe thead th {\n",
       "        text-align: right;\n",
       "    }\n",
       "</style>\n",
       "<table border=\"1\" class=\"dataframe\">\n",
       "  <thead>\n",
       "    <tr style=\"text-align: right;\">\n",
       "      <th></th>\n",
       "      <th>step</th>\n",
       "      <th>type</th>\n",
       "      <th>amount</th>\n",
       "      <th>nameOrig</th>\n",
       "      <th>oldbalanceOrg</th>\n",
       "      <th>newbalanceOrig</th>\n",
       "      <th>nameDest</th>\n",
       "      <th>oldbalanceDest</th>\n",
       "      <th>newbalanceDest</th>\n",
       "      <th>isFraud</th>\n",
       "      <th>isFlaggedFraud</th>\n",
       "    </tr>\n",
       "  </thead>\n",
       "  <tbody>\n",
       "    <tr>\n",
       "      <th>0</th>\n",
       "      <td>1</td>\n",
       "      <td>PAYMENT</td>\n",
       "      <td>9839.64</td>\n",
       "      <td>C1231006815</td>\n",
       "      <td>170136.0</td>\n",
       "      <td>160296.36</td>\n",
       "      <td>M1979787155</td>\n",
       "      <td>0.0</td>\n",
       "      <td>0.0</td>\n",
       "      <td>0</td>\n",
       "      <td>0</td>\n",
       "    </tr>\n",
       "    <tr>\n",
       "      <th>1</th>\n",
       "      <td>1</td>\n",
       "      <td>PAYMENT</td>\n",
       "      <td>1864.28</td>\n",
       "      <td>C1666544295</td>\n",
       "      <td>21249.0</td>\n",
       "      <td>19384.72</td>\n",
       "      <td>M2044282225</td>\n",
       "      <td>0.0</td>\n",
       "      <td>0.0</td>\n",
       "      <td>0</td>\n",
       "      <td>0</td>\n",
       "    </tr>\n",
       "    <tr>\n",
       "      <th>2</th>\n",
       "      <td>1</td>\n",
       "      <td>TRANSFER</td>\n",
       "      <td>181.00</td>\n",
       "      <td>C1305486145</td>\n",
       "      <td>181.0</td>\n",
       "      <td>0.00</td>\n",
       "      <td>C553264065</td>\n",
       "      <td>0.0</td>\n",
       "      <td>0.0</td>\n",
       "      <td>1</td>\n",
       "      <td>0</td>\n",
       "    </tr>\n",
       "    <tr>\n",
       "      <th>3</th>\n",
       "      <td>1</td>\n",
       "      <td>CASH_OUT</td>\n",
       "      <td>181.00</td>\n",
       "      <td>C840083671</td>\n",
       "      <td>181.0</td>\n",
       "      <td>0.00</td>\n",
       "      <td>C38997010</td>\n",
       "      <td>21182.0</td>\n",
       "      <td>0.0</td>\n",
       "      <td>1</td>\n",
       "      <td>0</td>\n",
       "    </tr>\n",
       "    <tr>\n",
       "      <th>4</th>\n",
       "      <td>1</td>\n",
       "      <td>PAYMENT</td>\n",
       "      <td>11668.14</td>\n",
       "      <td>C2048537720</td>\n",
       "      <td>41554.0</td>\n",
       "      <td>29885.86</td>\n",
       "      <td>M1230701703</td>\n",
       "      <td>0.0</td>\n",
       "      <td>0.0</td>\n",
       "      <td>0</td>\n",
       "      <td>0</td>\n",
       "    </tr>\n",
       "  </tbody>\n",
       "</table>\n",
       "</div>"
      ],
      "text/plain": [
       "   step      type    amount     nameOrig  oldbalanceOrg  newbalanceOrig  \\\n",
       "0     1   PAYMENT   9839.64  C1231006815       170136.0       160296.36   \n",
       "1     1   PAYMENT   1864.28  C1666544295        21249.0        19384.72   \n",
       "2     1  TRANSFER    181.00  C1305486145          181.0            0.00   \n",
       "3     1  CASH_OUT    181.00   C840083671          181.0            0.00   \n",
       "4     1   PAYMENT  11668.14  C2048537720        41554.0        29885.86   \n",
       "\n",
       "      nameDest  oldbalanceDest  newbalanceDest  isFraud  isFlaggedFraud  \n",
       "0  M1979787155             0.0             0.0        0               0  \n",
       "1  M2044282225             0.0             0.0        0               0  \n",
       "2   C553264065             0.0             0.0        1               0  \n",
       "3    C38997010         21182.0             0.0        1               0  \n",
       "4  M1230701703             0.0             0.0        0               0  "
      ]
     },
     "execution_count": 4,
     "metadata": {},
     "output_type": "execute_result"
    }
   ],
   "source": [
    "df.head()"
   ]
  },
  {
   "cell_type": "code",
   "execution_count": 5,
   "id": "db187cb1",
   "metadata": {},
   "outputs": [
    {
     "data": {
      "text/html": [
       "<div>\n",
       "<style scoped>\n",
       "    .dataframe tbody tr th:only-of-type {\n",
       "        vertical-align: middle;\n",
       "    }\n",
       "\n",
       "    .dataframe tbody tr th {\n",
       "        vertical-align: top;\n",
       "    }\n",
       "\n",
       "    .dataframe thead th {\n",
       "        text-align: right;\n",
       "    }\n",
       "</style>\n",
       "<table border=\"1\" class=\"dataframe\">\n",
       "  <thead>\n",
       "    <tr style=\"text-align: right;\">\n",
       "      <th></th>\n",
       "      <th>step</th>\n",
       "      <th>type</th>\n",
       "      <th>amount</th>\n",
       "      <th>nameOrig</th>\n",
       "      <th>oldbalanceOrg</th>\n",
       "      <th>newbalanceOrig</th>\n",
       "      <th>nameDest</th>\n",
       "      <th>oldbalanceDest</th>\n",
       "      <th>newbalanceDest</th>\n",
       "      <th>isFraud</th>\n",
       "      <th>isFlaggedFraud</th>\n",
       "    </tr>\n",
       "  </thead>\n",
       "  <tbody>\n",
       "    <tr>\n",
       "      <th>6362615</th>\n",
       "      <td>743</td>\n",
       "      <td>CASH_OUT</td>\n",
       "      <td>339682.13</td>\n",
       "      <td>C786484425</td>\n",
       "      <td>339682.13</td>\n",
       "      <td>0.0</td>\n",
       "      <td>C776919290</td>\n",
       "      <td>0.00</td>\n",
       "      <td>339682.13</td>\n",
       "      <td>1</td>\n",
       "      <td>0</td>\n",
       "    </tr>\n",
       "    <tr>\n",
       "      <th>6362616</th>\n",
       "      <td>743</td>\n",
       "      <td>TRANSFER</td>\n",
       "      <td>6311409.28</td>\n",
       "      <td>C1529008245</td>\n",
       "      <td>6311409.28</td>\n",
       "      <td>0.0</td>\n",
       "      <td>C1881841831</td>\n",
       "      <td>0.00</td>\n",
       "      <td>0.00</td>\n",
       "      <td>1</td>\n",
       "      <td>0</td>\n",
       "    </tr>\n",
       "    <tr>\n",
       "      <th>6362617</th>\n",
       "      <td>743</td>\n",
       "      <td>CASH_OUT</td>\n",
       "      <td>6311409.28</td>\n",
       "      <td>C1162922333</td>\n",
       "      <td>6311409.28</td>\n",
       "      <td>0.0</td>\n",
       "      <td>C1365125890</td>\n",
       "      <td>68488.84</td>\n",
       "      <td>6379898.11</td>\n",
       "      <td>1</td>\n",
       "      <td>0</td>\n",
       "    </tr>\n",
       "    <tr>\n",
       "      <th>6362618</th>\n",
       "      <td>743</td>\n",
       "      <td>TRANSFER</td>\n",
       "      <td>850002.52</td>\n",
       "      <td>C1685995037</td>\n",
       "      <td>850002.52</td>\n",
       "      <td>0.0</td>\n",
       "      <td>C2080388513</td>\n",
       "      <td>0.00</td>\n",
       "      <td>0.00</td>\n",
       "      <td>1</td>\n",
       "      <td>0</td>\n",
       "    </tr>\n",
       "    <tr>\n",
       "      <th>6362619</th>\n",
       "      <td>743</td>\n",
       "      <td>CASH_OUT</td>\n",
       "      <td>850002.52</td>\n",
       "      <td>C1280323807</td>\n",
       "      <td>850002.52</td>\n",
       "      <td>0.0</td>\n",
       "      <td>C873221189</td>\n",
       "      <td>6510099.11</td>\n",
       "      <td>7360101.63</td>\n",
       "      <td>1</td>\n",
       "      <td>0</td>\n",
       "    </tr>\n",
       "  </tbody>\n",
       "</table>\n",
       "</div>"
      ],
      "text/plain": [
       "         step      type      amount     nameOrig  oldbalanceOrg  \\\n",
       "6362615   743  CASH_OUT   339682.13   C786484425      339682.13   \n",
       "6362616   743  TRANSFER  6311409.28  C1529008245     6311409.28   \n",
       "6362617   743  CASH_OUT  6311409.28  C1162922333     6311409.28   \n",
       "6362618   743  TRANSFER   850002.52  C1685995037      850002.52   \n",
       "6362619   743  CASH_OUT   850002.52  C1280323807      850002.52   \n",
       "\n",
       "         newbalanceOrig     nameDest  oldbalanceDest  newbalanceDest  isFraud  \\\n",
       "6362615             0.0   C776919290            0.00       339682.13        1   \n",
       "6362616             0.0  C1881841831            0.00            0.00        1   \n",
       "6362617             0.0  C1365125890        68488.84      6379898.11        1   \n",
       "6362618             0.0  C2080388513            0.00            0.00        1   \n",
       "6362619             0.0   C873221189      6510099.11      7360101.63        1   \n",
       "\n",
       "         isFlaggedFraud  \n",
       "6362615               0  \n",
       "6362616               0  \n",
       "6362617               0  \n",
       "6362618               0  \n",
       "6362619               0  "
      ]
     },
     "execution_count": 5,
     "metadata": {},
     "output_type": "execute_result"
    }
   ],
   "source": [
    "df.tail()"
   ]
  },
  {
   "cell_type": "markdown",
   "id": "a2be2644",
   "metadata": {},
   "source": [
    "### Finding NULL values "
   ]
  },
  {
   "cell_type": "code",
   "execution_count": 6,
   "id": "633129b8",
   "metadata": {},
   "outputs": [
    {
     "data": {
      "text/plain": [
       "step              0\n",
       "type              0\n",
       "amount            0\n",
       "nameOrig          0\n",
       "oldbalanceOrg     0\n",
       "newbalanceOrig    0\n",
       "nameDest          0\n",
       "oldbalanceDest    0\n",
       "newbalanceDest    0\n",
       "isFraud           0\n",
       "isFlaggedFraud    0\n",
       "dtype: int64"
      ]
     },
     "execution_count": 6,
     "metadata": {},
     "output_type": "execute_result"
    }
   ],
   "source": [
    "df.isna().sum()"
   ]
  },
  {
   "cell_type": "markdown",
   "id": "c2970a21",
   "metadata": {},
   "source": [
    "### Determining the number of fraud and non-fraud cases "
   ]
  },
  {
   "cell_type": "code",
   "execution_count": 7,
   "id": "b21eb953",
   "metadata": {},
   "outputs": [
    {
     "data": {
      "text/plain": [
       "0    6354407\n",
       "1       8213\n",
       "Name: isFraud, dtype: int64"
      ]
     },
     "execution_count": 7,
     "metadata": {},
     "output_type": "execute_result"
    }
   ],
   "source": [
    "df['isFraud'].value_counts()"
   ]
  },
  {
   "cell_type": "markdown",
   "id": "c1218cfb",
   "metadata": {},
   "source": [
    "### Determining count of fraudulent cases grouped on the type of transaction "
   ]
  },
  {
   "cell_type": "code",
   "execution_count": 55,
   "id": "24f7ae5c",
   "metadata": {},
   "outputs": [
    {
     "data": {
      "text/plain": [
       "type      isFraud\n",
       "CASH_IN   0          1399284\n",
       "CASH_OUT  0          2233384\n",
       "          1             4116\n",
       "DEBIT     0            41432\n",
       "PAYMENT   0          2151495\n",
       "TRANSFER  0           528812\n",
       "          1             4097\n",
       "Name: isFraud, dtype: int64"
      ]
     },
     "execution_count": 55,
     "metadata": {},
     "output_type": "execute_result"
    }
   ],
   "source": [
    "df.groupby('type')['isFraud'].value_counts()"
   ]
  },
  {
   "cell_type": "markdown",
   "id": "5d4026e0",
   "metadata": {},
   "source": [
    "### Plot of transaction types "
   ]
  },
  {
   "cell_type": "code",
   "execution_count": 57,
   "id": "50f34f3c",
   "metadata": {},
   "outputs": [
    {
     "name": "stdout",
     "output_type": "stream",
     "text": [
      "          total counts  Percentage\n",
      "CASH_OUT       2237500    0.351663\n",
      "PAYMENT        2151495    0.338146\n",
      "CASH_IN        1399284    0.219923\n",
      "TRANSFER        532909    0.083756\n",
      "DEBIT            41432    0.006512\n"
     ]
    },
    {
     "data": {
      "text/plain": [
       "Text(0.5, 1.0, 'Distribution of \"type\"')"
      ]
     },
     "execution_count": 57,
     "metadata": {},
     "output_type": "execute_result"
    },
    {
     "data": {
      "image/png": "[encoded data removed]",
      "text/plain": [
       "<Figure size 720x504 with 1 Axes>"
      ]
     },
     "metadata": {
      "needs_background": "light"
     },
     "output_type": "display_data"
    }
   ],
   "source": [
    "type_counts = pd.DataFrame()\n",
    "type_counts['total counts'] = df['type'].value_counts()\n",
    "type_counts['Percentage'] = type_counts['total counts']/type_counts['total counts'].sum()\n",
    "print(type_counts)\n",
    "\n",
    "type_counts['Percentage'].plot(kind='bar', rot=0, color='blue', alpha=0.5)\n",
    "plt.ylabel('%')\n",
    "plt.title('Distribution of \"type\"')"
   ]
  },
  {
   "cell_type": "markdown",
   "id": "c7272c13",
   "metadata": {},
   "source": [
    "### Plot of common transaction amounts "
   ]
  },
  {
   "cell_type": "code",
   "execution_count": 16,
   "id": "11d6c8f9",
   "metadata": {},
   "outputs": [
    {
     "data": {
      "image/png": "[encoded data removed]",
      "text/plain": [
       "<Figure size 720x504 with 1 Axes>"
      ]
     },
     "metadata": {
      "needs_background": "light"
     },
     "output_type": "display_data"
    }
   ],
   "source": [
    "plt.rcParams['figure.figsize'] = (10, 7)\n",
    "df['amount'].value_counts().head(10).plot.bar()\n",
    "plt.title('10 Most Common Transaction amounts', fontsize = 20)\n",
    "plt.xlabel('Amounts')\n",
    "plt.ylabel('Count')\n",
    "plt.show()"
   ]
  },
  {
   "cell_type": "markdown",
   "id": "4e5d0eeb",
   "metadata": {},
   "source": [
    "### Number of fraudulent transactions in each category "
   ]
  },
  {
   "cell_type": "code",
   "execution_count": 20,
   "id": "a4f91615",
   "metadata": {},
   "outputs": [
    {
     "name": "stdout",
     "output_type": "stream",
     "text": [
      "Number of fraudulent transactions in CASH_IN: 0\n",
      "Number of fraudulent transactions in CASH_OUT: 4116\n",
      "Number of fraudulent transactions in TRANSFER: 4097\n",
      "Number of fraudulent transactions in DEBIT: 0\n",
      "Number of fraudulent transactions in PAYMENT: 0\n"
     ]
    }
   ],
   "source": [
    "cashInFrauds = df.loc[(df.isFraud == 1) & (df.type == 'CASH_IN')]\n",
    "cashOutFrauds = df.loc[(df.isFraud==1) & (df.type=='CASH_OUT')]\n",
    "transferFrauds = df.loc[(df.isFraud==1) & (df.type=='TRANSFER')]\n",
    "debitFrauds = df.loc[(df.isFraud==1) & (df.type=='DEBIT')]\n",
    "paymentFrauds = df.loc[(df.isFraud==1) & (df.type=='PAYMENT')]\n",
    "\n",
    "print('Number of fraudulent transactions in CASH_IN: {}'.format(len(cashInFrauds)))\n",
    "print('Number of fraudulent transactions in CASH_OUT: {}'.format(len(cashOutFrauds)))\n",
    "print('Number of fraudulent transactions in TRANSFER: {}'.format(len(transferFrauds)))\n",
    "print('Number of fraudulent transactions in DEBIT: {}'.format(len(debitFrauds)))\n",
    "print('Number of fraudulent transactions in PAYMENT: {}'.format(len(paymentFrauds)))"
   ]
  },
  {
   "cell_type": "markdown",
   "id": "63ce44ef",
   "metadata": {},
   "source": [
    "### Determining number of flagged fraudulent transactions "
   ]
  },
  {
   "cell_type": "code",
   "execution_count": 28,
   "id": "9246d4da",
   "metadata": {
    "scrolled": true
   },
   "outputs": [
    {
     "name": "stdout",
     "output_type": "stream",
     "text": [
      "The no. of Flagged Fraudulent Transactions in Transfer: 16\n",
      "The no. of Flagged Fraudulent Transactions in Cash_Out: 0\n",
      "Minimum Transaction : 353874.22\n",
      "Maximum Transaction : 10000000.0\n"
     ]
    }
   ],
   "source": [
    "FlaggedFraudTransfer = df.loc[(df.isFlaggedFraud == 1) & (df.type == 'TRANSFER')]\n",
    "FlaggedFraudCashOut = df.loc[(df.isFlaggedFraud == 1) & (df.type == 'CASH_OUT')]\n",
    "print(\"The no. of Flagged Fraudulent Transactions in Transfer:\", len(FlaggedFraudTransfer))\n",
    "print(\"The no. of Flagged Fraudulent Transactions in Cash_Out:\", len(FlaggedFraudCashOut))\n",
    "\n",
    "print(\"Minimum Transaction :\", df.loc[df.isFlaggedFraud == 1].amount.min())\n",
    "print(\"Maximum Transaction :\", df.loc[df.isFlaggedFraud == 1].amount.max())"
   ]
  },
  {
   "cell_type": "markdown",
   "id": "830e030e",
   "metadata": {},
   "source": [
    "### Determining the percentage of fraudulent transactions that are actually flagged "
   ]
  },
  {
   "cell_type": "code",
   "execution_count": 36,
   "id": "b8a8f367",
   "metadata": {},
   "outputs": [
    {
     "data": {
      "text/html": [
       "<div>\n",
       "<style scoped>\n",
       "    .dataframe tbody tr th:only-of-type {\n",
       "        vertical-align: middle;\n",
       "    }\n",
       "\n",
       "    .dataframe tbody tr th {\n",
       "        vertical-align: top;\n",
       "    }\n",
       "\n",
       "    .dataframe thead th {\n",
       "        text-align: right;\n",
       "    }\n",
       "</style>\n",
       "<table border=\"1\" class=\"dataframe\">\n",
       "  <thead>\n",
       "    <tr style=\"text-align: right;\">\n",
       "      <th>isFlaggedFraud</th>\n",
       "      <th>0</th>\n",
       "      <th>1</th>\n",
       "    </tr>\n",
       "    <tr>\n",
       "      <th>isFraud</th>\n",
       "      <th></th>\n",
       "      <th></th>\n",
       "    </tr>\n",
       "  </thead>\n",
       "  <tbody>\n",
       "    <tr>\n",
       "      <th>0</th>\n",
       "      <td>6354407</td>\n",
       "      <td>0</td>\n",
       "    </tr>\n",
       "    <tr>\n",
       "      <th>1</th>\n",
       "      <td>8197</td>\n",
       "      <td>16</td>\n",
       "    </tr>\n",
       "  </tbody>\n",
       "</table>\n",
       "</div>"
      ],
      "text/plain": [
       "isFlaggedFraud        0   1\n",
       "isFraud                    \n",
       "0               6354407   0\n",
       "1                  8197  16"
      ]
     },
     "execution_count": 36,
     "metadata": {},
     "output_type": "execute_result"
    }
   ],
   "source": [
    "pd.crosstab(df['isFraud'], df['isFlaggedFraud'], rownames=['isFraud'], colnames=['isFlaggedFraud'])"
   ]
  },
  {
   "cell_type": "markdown",
   "id": "1dd5a5bc",
   "metadata": {},
   "source": [
    "### Plot of non-fraud, fraud and flagged-fraud transactions "
   ]
  },
  {
   "cell_type": "code",
   "execution_count": 59,
   "id": "07e511ae",
   "metadata": {},
   "outputs": [
    {
     "data": {
      "text/plain": [
       "<matplotlib.legend.Legend at 0x23b6972bd60>"
      ]
     },
     "execution_count": 59,
     "metadata": {},
     "output_type": "execute_result"
    },
    {
     "data": {
      "image/png": "[encoded data removed]",
      "text/plain": [
       "<Figure size 720x504 with 1 Axes>"
      ]
     },
     "metadata": {
      "needs_background": "light"
     },
     "output_type": "display_data"
    }
   ],
   "source": [
    "nonFraud = df[df['isFraud'] == 0]\n",
    "fraud = df[df['isFraud'] == 1]\n",
    "flaggedFraud = df[df['isFlaggedFraud'] == 1]\n",
    "plt.plot(nonFraud['amount'], '-', color='g', label='Non-fraudulent')\n",
    "plt.plot(fraud['amount'], '-', color='r', label='Fraudulent')\n",
    "plt.plot(flaggedFraud['amount'], '-', color='b', label='Flagged-fraudulent')\n",
    "plt.ylabel(\"Transaction Amounts\")\n",
    "plt.legend()"
   ]
  },
  {
   "cell_type": "code",
   "execution_count": 61,
   "id": "33388f35",
   "metadata": {},
   "outputs": [
    {
     "name": "stdout",
     "output_type": "stream",
     "text": [
      "          total counts  Actual frauds  Flagged frauds  %-accuracy\n",
      "CASH_OUT       2237500           4116               0    0.000000\n",
      "PAYMENT        2151495              0               0         NaN\n",
      "CASH_IN        1399284              0               0         NaN\n",
      "TRANSFER        532909           4097              16    0.003905\n",
      "DEBIT            41432              0               0         NaN\n"
     ]
    }
   ],
   "source": [
    "type_counts = pd.DataFrame() \n",
    "type_counts['total counts'] = df['type'].value_counts()\n",
    "type_counts['Actual frauds'] = df[['type','isFraud']].groupby('type').sum()\n",
    "type_counts['Flagged frauds'] = df[['type','isFlaggedFraud']].groupby('type').sum()\n",
    "type_counts['%-accuracy'] = type_counts['Flagged frauds'] / type_counts['Actual frauds']\n",
    "print(type_counts)"
   ]
  },
  {
   "cell_type": "markdown",
   "id": "77e99aae",
   "metadata": {},
   "source": [
    "##### Only 2 types have fraudulent transactions, i.e. CASH_OUT and TRANSFER with counts of 4116 & 4097 respectively. But only 16 were flagged correctly, only from the TRANSFER type. "
   ]
  },
  {
   "cell_type": "markdown",
   "id": "edae72d9",
   "metadata": {},
   "source": [
    "### Analyzing step trends "
   ]
  },
  {
   "cell_type": "code",
   "execution_count": 77,
   "id": "5bd51267",
   "metadata": {},
   "outputs": [
    {
     "data": {
      "text/plain": [
       "Text(0.5, 1.0, 'Number of frauds - per day')"
      ]
     },
     "execution_count": 77,
     "metadata": {},
     "output_type": "execute_result"
    },
    {
     "data": {
      "image/png": "[encoded data removed]",
      "text/plain": [
       "<Figure size 1152x432 with 2 Axes>"
      ]
     },
     "metadata": {
      "needs_background": "light"
     },
     "output_type": "display_data"
    }
   ],
   "source": [
    "# converting steps to days\n",
    "df['day'] = pd.cut(df['step'],[0,24,48,72,96,120,144,168,192,216,240,264,288,312,336,360,384,408,432,456,480,504,528,552,576,600,624,648,672,\n",
    "                      696,720,800], labels=[1,2,3,4,5,6,7,8,9,10,11,12,13,14,15,16,17,18,19,20,21,22,23,24,25,26,27,28,29,30,31])\n",
    "df['count'] = 1\n",
    "new_df = df.loc[(df.type == 'CASH_OUT') | (df.type == 'TRANSFER')]\n",
    "time = new_df[['day', 'isFraud', 'amount', 'type', 'count']].groupby('day')\n",
    "fraud_counts_perDay = pd.DataFrame()\n",
    "fraud_counts_perDay['total'] = time['count'].sum()\n",
    "fraud_counts_perDay['frauds'] = time['isFraud'].sum()\n",
    "\n",
    "plt.figure(figsize=[16,6])\n",
    "plt.subplot(121)\n",
    "fraud_counts_perDay['total'].plot(color='r')\n",
    "plt.ylabel('Number of transactions')\n",
    "plt.title(\"Cash_out and Transfer transactions only - per day\")\n",
    "\n",
    "plt.subplot(122)\n",
    "fraud_counts_perDay['frauds'].plot(color='g')\n",
    "plt.ylabel('Number of frauds')\n",
    "plt.title(\"Number of frauds - per day\")"
   ]
  },
  {
   "cell_type": "code",
   "execution_count": 80,
   "id": "307b33e6",
   "metadata": {},
   "outputs": [
    {
     "name": "stdout",
     "output_type": "stream",
     "text": [
      "Average % of frauds per day...\n",
      "0.07425451968796597\n"
     ]
    },
    {
     "data": {
      "text/plain": [
       "Text(0, 0.5, '%')"
      ]
     },
     "execution_count": 80,
     "metadata": {},
     "output_type": "execute_result"
    },
    {
     "data": {
      "image/png": "[encoded data removed]",
      "text/plain": [
       "<Figure size 720x504 with 1 Axes>"
      ]
     },
     "metadata": {
      "needs_background": "light"
     },
     "output_type": "display_data"
    }
   ],
   "source": [
    "fraud_counts_perDay['percentage'] = (fraud_counts_perDay['frauds'] / fraud_counts_perDay['total'])\n",
    "print(\"Average % of frauds per day...\")\n",
    "print(fraud_counts_perDay['percentage'].mean())\n",
    "fraud_counts_perDay['percentage'].plot(kind='bar', color='navy', alpha=0.5, rot=0)\n",
    "plt.title(\"% - frauds per day\")\n",
    "plt.ylabel(\"%\")"
   ]
  },
  {
   "cell_type": "markdown",
   "id": "9fc5fbb9",
   "metadata": {},
   "source": [
    "### Irregularities in balance "
   ]
  },
  {
   "cell_type": "code",
   "execution_count": 83,
   "id": "95ff30ee",
   "metadata": {},
   "outputs": [
    {
     "data": {
      "text/html": [
       "<div>\n",
       "<style scoped>\n",
       "    .dataframe tbody tr th:only-of-type {\n",
       "        vertical-align: middle;\n",
       "    }\n",
       "\n",
       "    .dataframe tbody tr th {\n",
       "        vertical-align: top;\n",
       "    }\n",
       "\n",
       "    .dataframe thead th {\n",
       "        text-align: right;\n",
       "    }\n",
       "</style>\n",
       "<table border=\"1\" class=\"dataframe\">\n",
       "  <thead>\n",
       "    <tr style=\"text-align: right;\">\n",
       "      <th></th>\n",
       "      <th>step</th>\n",
       "      <th>type</th>\n",
       "      <th>amount</th>\n",
       "      <th>nameOrig</th>\n",
       "      <th>oldbalanceOrg</th>\n",
       "      <th>newbalanceOrig</th>\n",
       "      <th>nameDest</th>\n",
       "      <th>oldbalanceDest</th>\n",
       "      <th>newbalanceDest</th>\n",
       "      <th>isFraud</th>\n",
       "      <th>isFlaggedFraud</th>\n",
       "      <th>day</th>\n",
       "      <th>count</th>\n",
       "      <th>newbal</th>\n",
       "      <th>origbal_diff</th>\n",
       "      <th>newbal_dest</th>\n",
       "      <th>destbal_diff</th>\n",
       "    </tr>\n",
       "  </thead>\n",
       "  <tbody>\n",
       "    <tr>\n",
       "      <th>0</th>\n",
       "      <td>1</td>\n",
       "      <td>PAYMENT</td>\n",
       "      <td>9839.64</td>\n",
       "      <td>C1231006815</td>\n",
       "      <td>170136.0</td>\n",
       "      <td>160296.36</td>\n",
       "      <td>M1979787155</td>\n",
       "      <td>0.0</td>\n",
       "      <td>0.0</td>\n",
       "      <td>0</td>\n",
       "      <td>0</td>\n",
       "      <td>1</td>\n",
       "      <td>1</td>\n",
       "      <td>160296.36</td>\n",
       "      <td>False</td>\n",
       "      <td>9839.64</td>\n",
       "      <td>True</td>\n",
       "    </tr>\n",
       "    <tr>\n",
       "      <th>1</th>\n",
       "      <td>1</td>\n",
       "      <td>PAYMENT</td>\n",
       "      <td>1864.28</td>\n",
       "      <td>C1666544295</td>\n",
       "      <td>21249.0</td>\n",
       "      <td>19384.72</td>\n",
       "      <td>M2044282225</td>\n",
       "      <td>0.0</td>\n",
       "      <td>0.0</td>\n",
       "      <td>0</td>\n",
       "      <td>0</td>\n",
       "      <td>1</td>\n",
       "      <td>1</td>\n",
       "      <td>19384.72</td>\n",
       "      <td>False</td>\n",
       "      <td>1864.28</td>\n",
       "      <td>True</td>\n",
       "    </tr>\n",
       "    <tr>\n",
       "      <th>2</th>\n",
       "      <td>1</td>\n",
       "      <td>TRANSFER</td>\n",
       "      <td>181.00</td>\n",
       "      <td>C1305486145</td>\n",
       "      <td>181.0</td>\n",
       "      <td>0.00</td>\n",
       "      <td>C553264065</td>\n",
       "      <td>0.0</td>\n",
       "      <td>0.0</td>\n",
       "      <td>1</td>\n",
       "      <td>0</td>\n",
       "      <td>1</td>\n",
       "      <td>1</td>\n",
       "      <td>0.00</td>\n",
       "      <td>False</td>\n",
       "      <td>181.00</td>\n",
       "      <td>True</td>\n",
       "    </tr>\n",
       "    <tr>\n",
       "      <th>3</th>\n",
       "      <td>1</td>\n",
       "      <td>CASH_OUT</td>\n",
       "      <td>181.00</td>\n",
       "      <td>C840083671</td>\n",
       "      <td>181.0</td>\n",
       "      <td>0.00</td>\n",
       "      <td>C38997010</td>\n",
       "      <td>21182.0</td>\n",
       "      <td>0.0</td>\n",
       "      <td>1</td>\n",
       "      <td>0</td>\n",
       "      <td>1</td>\n",
       "      <td>1</td>\n",
       "      <td>0.00</td>\n",
       "      <td>False</td>\n",
       "      <td>21363.00</td>\n",
       "      <td>True</td>\n",
       "    </tr>\n",
       "    <tr>\n",
       "      <th>4</th>\n",
       "      <td>1</td>\n",
       "      <td>PAYMENT</td>\n",
       "      <td>11668.14</td>\n",
       "      <td>C2048537720</td>\n",
       "      <td>41554.0</td>\n",
       "      <td>29885.86</td>\n",
       "      <td>M1230701703</td>\n",
       "      <td>0.0</td>\n",
       "      <td>0.0</td>\n",
       "      <td>0</td>\n",
       "      <td>0</td>\n",
       "      <td>1</td>\n",
       "      <td>1</td>\n",
       "      <td>29885.86</td>\n",
       "      <td>False</td>\n",
       "      <td>11668.14</td>\n",
       "      <td>True</td>\n",
       "    </tr>\n",
       "  </tbody>\n",
       "</table>\n",
       "</div>"
      ],
      "text/plain": [
       "   step      type    amount     nameOrig  oldbalanceOrg  newbalanceOrig  \\\n",
       "0     1   PAYMENT   9839.64  C1231006815       170136.0       160296.36   \n",
       "1     1   PAYMENT   1864.28  C1666544295        21249.0        19384.72   \n",
       "2     1  TRANSFER    181.00  C1305486145          181.0            0.00   \n",
       "3     1  CASH_OUT    181.00   C840083671          181.0            0.00   \n",
       "4     1   PAYMENT  11668.14  C2048537720        41554.0        29885.86   \n",
       "\n",
       "      nameDest  oldbalanceDest  newbalanceDest  isFraud  isFlaggedFraud day  \\\n",
       "0  M1979787155             0.0             0.0        0               0   1   \n",
       "1  M2044282225             0.0             0.0        0               0   1   \n",
       "2   C553264065             0.0             0.0        1               0   1   \n",
       "3    C38997010         21182.0             0.0        1               0   1   \n",
       "4  M1230701703             0.0             0.0        0               0   1   \n",
       "\n",
       "   count     newbal  origbal_diff  newbal_dest  destbal_diff  \n",
       "0      1  160296.36         False      9839.64          True  \n",
       "1      1   19384.72         False      1864.28          True  \n",
       "2      1       0.00         False       181.00          True  \n",
       "3      1       0.00         False     21363.00          True  \n",
       "4      1   29885.86         False     11668.14          True  "
      ]
     },
     "execution_count": 83,
     "metadata": {},
     "output_type": "execute_result"
    }
   ],
   "source": [
    "df['newbal'] = df['oldbalanceOrg'] - df['amount']\n",
    "df['origbal_diff'] = df['newbal'] != df['newbalanceOrig']\n",
    "df['newbal_dest'] = df['oldbalanceDest'] + df['amount']\n",
    "df['destbal_diff'] = df['newbal_dest'] != df['newbalanceDest']\n",
    "df.head()"
   ]
  },
  {
   "cell_type": "code",
   "execution_count": 87,
   "id": "f9f0571d",
   "metadata": {},
   "outputs": [
    {
     "name": "stdout",
     "output_type": "stream",
     "text": [
      "Customers\n",
      "origbal_diff   False    True \n",
      "isFraud                      \n",
      "0             940537  5413870\n",
      "1               8086      127\n",
      "\n",
      "\n",
      "Merchants\n",
      "destbal_diff    False    True \n",
      "isFraud                       \n",
      "0             1623057  4731350\n",
      "1                2889     5324\n"
     ]
    }
   ],
   "source": [
    "print('Customers')\n",
    "print(pd.crosstab(df['isFraud'], df['origbal_diff'], rownames=['isFraud'], colnames=['origbal_diff']))\n",
    "\n",
    "print('\\n\\nMerchants')\n",
    "print(pd.crosstab(df['isFraud'], df['destbal_diff'], rownames=['isFraud'], colnames=['destbal_diff']))"
   ]
  },
  {
   "cell_type": "markdown",
   "id": "797b64d4",
   "metadata": {},
   "source": [
    "###### Out of 8213 total fraud transactions, there are only 127 fraud transactions where there is irregularity in customers new balance, i.e. only 1.54% of the time, irregularities in customers new balance will be a fraud transaction whereas, it is ~65% for irregularities in merchants new balance.\n",
    " "
   ]
  },
  {
   "cell_type": "markdown",
   "id": "51d58962",
   "metadata": {},
   "source": [
    "## Data Preprocessing "
   ]
  },
  {
   "cell_type": "code",
   "execution_count": 89,
   "id": "87f1a4eb",
   "metadata": {},
   "outputs": [],
   "source": [
    "X = df[['day','type','amount','oldbalanceOrg','newbalanceOrig','oldbalanceDest','newbalanceDest','origbal_diff','destbal_diff']]\n",
    "y = df.isFraud"
   ]
  },
  {
   "cell_type": "code",
   "execution_count": 92,
   "id": "88255a39",
   "metadata": {},
   "outputs": [
    {
     "name": "stdout",
     "output_type": "stream",
     "text": [
      "<class 'pandas.core.frame.DataFrame'>\n",
      "RangeIndex: 6362620 entries, 0 to 6362619\n",
      "Data columns (total 9 columns):\n",
      " #   Column          Dtype   \n",
      "---  ------          -----   \n",
      " 0   day             category\n",
      " 1   type            object  \n",
      " 2   amount          float64 \n",
      " 3   oldbalanceOrg   float64 \n",
      " 4   newbalanceOrig  float64 \n",
      " 5   oldbalanceDest  float64 \n",
      " 6   newbalanceDest  float64 \n",
      " 7   origbal_diff    bool    \n",
      " 8   destbal_diff    bool    \n",
      "dtypes: bool(2), category(1), float64(5), object(1)\n",
      "memory usage: 309.5+ MB\n"
     ]
    }
   ],
   "source": [
    "X.info()"
   ]
  },
  {
   "cell_type": "code",
   "execution_count": 93,
   "id": "0fd689c2",
   "metadata": {},
   "outputs": [
    {
     "name": "stderr",
     "output_type": "stream",
     "text": [
      "<ipython-input-93-b95254f90acf>:5: SettingWithCopyWarning: \n",
      "A value is trying to be set on a copy of a slice from a DataFrame.\n",
      "Try using .loc[row_indexer,col_indexer] = value instead\n",
      "\n",
      "See the caveats in the documentation: https://pandas.pydata.org/pandas-docs/stable/user_guide/indexing.html#returning-a-view-versus-a-copy\n",
      "  X[i] = le.fit_transform(X[i])\n"
     ]
    }
   ],
   "source": [
    "from sklearn.preprocessing import LabelEncoder\n",
    "list1 = ['type','origbal_diff','destbal_diff']\n",
    "le = LabelEncoder()\n",
    "for i in list1:\n",
    "    X[i] = le.fit_transform(X[i])"
   ]
  },
  {
   "cell_type": "code",
   "execution_count": 94,
   "id": "4245a6f8",
   "metadata": {},
   "outputs": [
    {
     "name": "stdout",
     "output_type": "stream",
     "text": [
      "<class 'pandas.core.frame.DataFrame'>\n",
      "RangeIndex: 6362620 entries, 0 to 6362619\n",
      "Data columns (total 9 columns):\n",
      " #   Column          Dtype   \n",
      "---  ------          -----   \n",
      " 0   day             category\n",
      " 1   type            int32   \n",
      " 2   amount          float64 \n",
      " 3   oldbalanceOrg   float64 \n",
      " 4   newbalanceOrig  float64 \n",
      " 5   oldbalanceDest  float64 \n",
      " 6   newbalanceDest  float64 \n",
      " 7   origbal_diff    int64   \n",
      " 8   destbal_diff    int64   \n",
      "dtypes: category(1), float64(5), int32(1), int64(2)\n",
      "memory usage: 370.1 MB\n"
     ]
    }
   ],
   "source": [
    "X.info()"
   ]
  },
  {
   "cell_type": "code",
   "execution_count": 95,
   "id": "c1a1563b",
   "metadata": {},
   "outputs": [],
   "source": [
    "from sklearn.preprocessing import StandardScaler\n",
    "scaler = StandardScaler()\n",
    "XX = scaler.fit_transform(X) "
   ]
  },
  {
   "cell_type": "markdown",
   "id": "02f70f39",
   "metadata": {},
   "source": [
    "## Model Training and Prediction "
   ]
  },
  {
   "cell_type": "code",
   "execution_count": 96,
   "id": "e62dc231",
   "metadata": {},
   "outputs": [],
   "source": [
    "from sklearn.model_selection import cross_val_score\n",
    "from sklearn.metrics import mean_squared_error, confusion_matrix, classification_report, accuracy_score, auc, roc_curve\n",
    "from sklearn.model_selection import train_test_split\n",
    "def validation_cross(model, x,y):\n",
    "    xtrain,xtest,ytrain,ytest = train_test_split(x,y, random_state=0, test_size=0.3)\n",
    "    model.fit(xtrain, ytrain)\n",
    "\n",
    "    #Predict training set:\n",
    "    pred = model.predict(xtest)\n",
    "\n",
    "    #Perform cross-validation:\n",
    "    cv_score = cross_val_score(model, xtrain, ytrain, cv=5, scoring='accuracy')\n",
    "    cv_score = np.sqrt(np.abs(cv_score))\n",
    "\n",
    "    #Print model report:\n",
    "    print (\"\\nModel Report on the TRAINING data...\")\n",
    "    print (\"Accuracy_score: %.4g\" %model.score(xtrain,ytrain))\n",
    "    print (\"CV Score : Mean - %.4g | Std - %.4g\" % (np.mean(cv_score),np.std(cv_score)))\n",
    "    print(\"\")\n",
    "    \n",
    "    print (\"\\nModel Report on the TEST data...\")\n",
    "    print (\"Accuracy: %.4g\" %(accuracy_score(ytest,pred)))\n",
    "    print (\"RMSE : %.4g\" % np.sqrt(mean_squared_error(ytest.values, pred)))\n",
    "    print (\"Classification Report...\")\n",
    "    print (classification_report(ytest,pred))\n",
    "    cm = confusion_matrix(ytest,pred)\n",
    "    \n",
    "    plt.figure(figsize=[10,3])\n",
    "    plt.subplot(121)\n",
    "    print (\"Confusion Matrix..\")\n",
    "    sns.heatmap(cm, annot=True, fmt=\"d\")\n",
    "    plt.ylabel(\"Real value\")\n",
    "    plt.xlabel(\"Predicted value\")\n",
    "    print(\"\")"
   ]
  },
  {
   "cell_type": "code",
   "execution_count": 98,
   "id": "4983bc22",
   "metadata": {},
   "outputs": [
    {
     "name": "stderr",
     "output_type": "stream",
     "text": [
      "c:\\users\\annanya pandey\\appdata\\local\\programs\\python\\python39\\lib\\site-packages\\sklearn\\linear_model\\_logistic.py:814: ConvergenceWarning: lbfgs failed to converge (status=1):\n",
      "STOP: TOTAL NO. of ITERATIONS REACHED LIMIT.\n",
      "\n",
      "Increase the number of iterations (max_iter) or scale the data as shown in:\n",
      "    https://scikit-learn.org/stable/modules/preprocessing.html\n",
      "Please also refer to the documentation for alternative solver options:\n",
      "    https://scikit-learn.org/stable/modules/linear_model.html#logistic-regression\n",
      "  n_iter_i = _check_optimize_result(\n",
      "c:\\users\\annanya pandey\\appdata\\local\\programs\\python\\python39\\lib\\site-packages\\sklearn\\linear_model\\_logistic.py:814: ConvergenceWarning: lbfgs failed to converge (status=1):\n",
      "STOP: TOTAL NO. of ITERATIONS REACHED LIMIT.\n",
      "\n",
      "Increase the number of iterations (max_iter) or scale the data as shown in:\n",
      "    https://scikit-learn.org/stable/modules/preprocessing.html\n",
      "Please also refer to the documentation for alternative solver options:\n",
      "    https://scikit-learn.org/stable/modules/linear_model.html#logistic-regression\n",
      "  n_iter_i = _check_optimize_result(\n",
      "c:\\users\\annanya pandey\\appdata\\local\\programs\\python\\python39\\lib\\site-packages\\sklearn\\linear_model\\_logistic.py:814: ConvergenceWarning: lbfgs failed to converge (status=1):\n",
      "STOP: TOTAL NO. of ITERATIONS REACHED LIMIT.\n",
      "\n",
      "Increase the number of iterations (max_iter) or scale the data as shown in:\n",
      "    https://scikit-learn.org/stable/modules/preprocessing.html\n",
      "Please also refer to the documentation for alternative solver options:\n",
      "    https://scikit-learn.org/stable/modules/linear_model.html#logistic-regression\n",
      "  n_iter_i = _check_optimize_result(\n",
      "c:\\users\\annanya pandey\\appdata\\local\\programs\\python\\python39\\lib\\site-packages\\sklearn\\linear_model\\_logistic.py:814: ConvergenceWarning: lbfgs failed to converge (status=1):\n",
      "STOP: TOTAL NO. of ITERATIONS REACHED LIMIT.\n",
      "\n",
      "Increase the number of iterations (max_iter) or scale the data as shown in:\n",
      "    https://scikit-learn.org/stable/modules/preprocessing.html\n",
      "Please also refer to the documentation for alternative solver options:\n",
      "    https://scikit-learn.org/stable/modules/linear_model.html#logistic-regression\n",
      "  n_iter_i = _check_optimize_result(\n"
     ]
    },
    {
     "name": "stdout",
     "output_type": "stream",
     "text": [
      "\n",
      "Model Report on the TRAINING data...\n",
      "Accuracy_score: 0.9993\n",
      "CV Score : Mean - 0.9997 | Std - 6.319e-06\n",
      "\n",
      "\n",
      "Model Report on the TEST data...\n",
      "Accuracy: 0.9994\n",
      "RMSE : 0.02549\n",
      "Classification Report...\n",
      "              precision    recall  f1-score   support\n",
      "\n",
      "           0       1.00      1.00      1.00   1906367\n",
      "           1       0.96      0.51      0.66      2419\n",
      "\n",
      "    accuracy                           1.00   1908786\n",
      "   macro avg       0.98      0.75      0.83   1908786\n",
      "weighted avg       1.00      1.00      1.00   1908786\n",
      "\n",
      "Confusion Matrix..\n",
      "\n"
     ]
    },
    {
     "data": {
      "image/png": "[encoded data removed]",
      "text/plain": [
       "<Figure size 720x216 with 2 Axes>"
      ]
     },
     "metadata": {
      "needs_background": "light"
     },
     "output_type": "display_data"
    }
   ],
   "source": [
    "from sklearn.linear_model import LogisticRegression\n",
    "validation_cross(LogisticRegression(), XX, y)"
   ]
  },
  {
   "cell_type": "code",
   "execution_count": 100,
   "id": "0ad5554c",
   "metadata": {},
   "outputs": [
    {
     "name": "stdout",
     "output_type": "stream",
     "text": [
      "\n",
      "Model Report on the TRAINING data...\n",
      "Accuracy_score: 1\n",
      "CV Score : Mean - 1 | Std - 6.736e-07\n",
      "\n",
      "\n",
      "Model Report on the TEST data...\n",
      "Accuracy: 1\n",
      "RMSE : 0.002289\n",
      "Classification Report...\n",
      "              precision    recall  f1-score   support\n",
      "\n",
      "           0       1.00      1.00      1.00   1906367\n",
      "           1       1.00      1.00      1.00      2419\n",
      "\n",
      "    accuracy                           1.00   1908786\n",
      "   macro avg       1.00      1.00      1.00   1908786\n",
      "weighted avg       1.00      1.00      1.00   1908786\n",
      "\n",
      "Confusion Matrix..\n",
      "\n"
     ]
    },
    {
     "data": {
      "image/png": "[encoded data removed]",
      "text/plain": [
       "<Figure size 720x216 with 2 Axes>"
      ]
     },
     "metadata": {
      "needs_background": "light"
     },
     "output_type": "display_data"
    }
   ],
   "source": [
    "from sklearn.ensemble import RandomForestClassifier \n",
    "validation_cross(RandomForestClassifier(), XX, y)"
   ]
  },
  {
   "cell_type": "code",
   "execution_count": null,
   "id": "42ae5ee5",
   "metadata": {},
   "outputs": [],
   "source": []
  }
 ],
 "metadata": {
  "kernelspec": {
   "display_name": "Python 3",
   "language": "python",
   "name": "python3"
  },
  "language_info": {
   "codemirror_mode": {
    "name": "ipython",
    "version": 3
   },
   "file_extension": ".py",
   "mimetype": "text/x-python",
   "name": "python",
   "nbconvert_exporter": "python",
   "pygments_lexer": "ipython3",
   "version": "3.9.1"
  }
 },
 "nbformat": 4,
 "nbformat_minor": 5
}
